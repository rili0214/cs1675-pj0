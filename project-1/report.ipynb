{
 "cells": [
  {
   "cell_type": "markdown",
   "id": "38e76daa-94e9-40d9-8b1e-fd7f00bb069b",
   "metadata": {},
   "source": [
    "# Project 1: Woonsocket-er Report\n",
    "\n",
    "You will submit a report in the style of a Jupyter Notebook (or similar) with **at least** the following:\n",
    "\n",
    "* Throughput-latency graphs for median, 95th, and 99th percentile latency across different workloads\n",
    "* Using these graphs, an analysis of the different performance characteristics non-vectored, vectored-I/O and `io_uring`.\n",
    "\n",
    "You should also provide an analysis of\n",
    "* How Poisson arrivals affect your client or server (e.g., did whether your implementation met a given offered load change? did whether the offered load matched the attempted load change? do you observe a difference in TCP backpressure?)\n",
    "* How your implementaton handles variable sized messages, and the changes in performance between the constant-sized messages in Project 0 and the variable-sized ones in this project.\n",
    "\n",
    "While this is the minimum requirement, your report should describe and justify your design decisions and provide evidence that the performance characteristics you discuss are represented correctly in whichever way you need to. For example, you might want to include flamegraphs in your report.\n"
   ]
  },
  {
   "cell_type": "markdown",
   "id": "5537a11b-c62c-4a53-9bfe-8a22a0b992f1",
   "metadata": {},
   "source": [
    "## Poisson arrivals\n",
    "\n",
    "Describe how you implemented Poisson arrivals and what impact this has on your system compared to the constant arrivals you implemented in Project 0."
   ]
  },
  {
   "cell_type": "markdown",
   "id": "750b121f-28cb-4a3d-9b42-52dbfdf0fb33",
   "metadata": {},
   "source": [
    "## Variable Sized Messages\n",
    "\n",
    "Describe how you handle variable sized messages and what impact this has on your system."
   ]
  },
  {
   "cell_type": "markdown",
   "id": "a5fe216a-c31d-4ab2-aba0-5eece34b1f51",
   "metadata": {},
   "source": [
    "## Open Loop Throughput-Latency Graphs\n",
    "\n",
    "Include your throughput-latency graphs here. Make sure to analyze the differences between different workloads and the different I/O strategies."
   ]
  },
  {
   "cell_type": "markdown",
   "id": "d818a8ec-5bc8-4a9c-8224-4ca754f7401f",
   "metadata": {},
   "source": [
    "## Design decisions\n",
    "\n",
    "List out key design decisions and justify each with quantitative evidence. Use flamegraphs or perf report from your experiments in the VM"
   ]
  }
 ],
 "metadata": {
  "kernelspec": {
   "display_name": "Python 3 (ipykernel)",
   "language": "python",
   "name": "python3"
  },
  "language_info": {
   "codemirror_mode": {
    "name": "ipython",
    "version": 3
   },
   "file_extension": ".py",
   "mimetype": "text/x-python",
   "name": "python",
   "nbconvert_exporter": "python",
   "pygments_lexer": "ipython3",
   "version": "3.13.0"
  }
 },
 "nbformat": 4,
 "nbformat_minor": 5
}
